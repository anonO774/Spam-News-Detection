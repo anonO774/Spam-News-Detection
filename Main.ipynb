{
 "cells": [
  {
   "cell_type": "code",
   "execution_count": 1,
   "id": "df9a229a-8f80-463b-9b49-ef6dfcddf1ad",
   "metadata": {},
   "outputs": [],
   "source": [
    "import pandas as pd\n",
    "import numpy as np\n",
    "import seaborn as sns\n",
    "import matplotlib.pyplot as plt\n",
    "from sklearn.model_selection import train_test_split\n",
    "from sklearn.metrics import accuracy_score, classification_report\n",
    "from sklearn.feature_extraction.text import TfidfVectorizer\n",
    "from sklearn.linear_model import LogisticRegression\n",
    "from sklearn.tree import DecisionTreeClassifier\n",
    "from sklearn.ensemble import GradientBoostingClassifier, RandomForestClassifier\n",
    "import re\n",
    "import string"
   ]
  },
  {
   "cell_type": "code",
   "execution_count": 2,
   "id": "25d3753e-21e1-446e-bd37-73bcf8111484",
   "metadata": {},
   "outputs": [],
   "source": [
    "data_fake = pd.read_csv('Fake.csv')\n",
    "data_true = pd.read_csv('True.csv')"
   ]
  },
  {
   "cell_type": "code",
   "execution_count": 3,
   "id": "380c1e4e-83c3-4668-ad82-0cae07ace3cb",
   "metadata": {},
   "outputs": [],
   "source": [
    "data_fake[\"class\"] = 0\n",
    "data_true[\"class\"] = 1"
   ]
  },
  {
   "cell_type": "code",
   "execution_count": 4,
   "id": "00021d69-747b-4f63-90bf-67b930f5d536",
   "metadata": {},
   "outputs": [],
   "source": [
    "data_fake_manual_testing = data_fake.tail(10).copy()\n",
    "data_true_manual_testing = data_true.tail(10).copy()"
   ]
  },
  {
   "cell_type": "code",
   "execution_count": 5,
   "id": "b22ec98d-2126-46f1-a76b-2ab78fe9d8bc",
   "metadata": {},
   "outputs": [],
   "source": [
    "data_fake = data_fake.iloc[:-10]\n",
    "data_true = data_true.iloc[:-10]"
   ]
  },
  {
   "cell_type": "code",
   "execution_count": 6,
   "id": "f2be779a-b865-4590-8be7-4ca0814fa868",
   "metadata": {},
   "outputs": [],
   "source": [
    "data_merge = pd.concat([data_fake, data_true], axis=0, ignore_index=True)"
   ]
  },
  {
   "cell_type": "code",
   "execution_count": 7,
   "id": "c924ca5f-bd56-482a-a087-e96a35d79160",
   "metadata": {},
   "outputs": [],
   "source": [
    "data = data_merge.drop(['title', 'subject', 'date'], axis=1)"
   ]
  },
  {
   "cell_type": "code",
   "execution_count": 8,
   "id": "e64f409b-2ef2-49b6-9f34-9232ad11a2a4",
   "metadata": {},
   "outputs": [],
   "source": [
    "data = data.sample(frac=1, random_state=42).reset_index(drop=True)"
   ]
  },
  {
   "cell_type": "code",
   "execution_count": 9,
   "id": "55e1b38c-36d0-4661-9ba9-8ae3afb6a04f",
   "metadata": {},
   "outputs": [],
   "source": [
    "def wordopt(text):\n",
    "    text = text.lower()\n",
    "    text = re.sub(r'https?://\\S+|www\\.\\S+', '', text)\n",
    "    text = re.sub(r'<.*?>', '', text)\n",
    "    text = re.sub(r'[^\\w\\s]', '', text)\n",
    "    text = re.sub(r'\\d', '', text)\n",
    "    text = re.sub(r'\\n', '', text)\n",
    "    return text"
   ]
  },
  {
   "cell_type": "code",
   "execution_count": 10,
   "id": "bc83ebeb-a1af-4855-a954-50612d57f4e3",
   "metadata": {},
   "outputs": [],
   "source": [
    "data['text'] = data['text'].apply(wordopt)"
   ]
  },
  {
   "cell_type": "code",
   "execution_count": 11,
   "id": "ffa6f042-0ec3-46e3-a788-978fed34069d",
   "metadata": {},
   "outputs": [],
   "source": [
    "X = data['text']\n",
    "y = data['class']"
   ]
  },
  {
   "cell_type": "code",
   "execution_count": 13,
   "id": "a9eb869e-1fd9-4c48-9485-d0c6f5afe8ad",
   "metadata": {},
   "outputs": [],
   "source": [
    "X_train, X_test, y_train, y_test = train_test_split(X, y, test_size=0.25, random_state=42)"
   ]
  },
  {
   "cell_type": "code",
   "execution_count": 14,
   "id": "b80e81c9-4925-4d14-be55-a04ba5e313e3",
   "metadata": {},
   "outputs": [],
   "source": [
    "vectorizer = TfidfVectorizer()\n",
    "X_train_vec = vectorizer.fit_transform(X_train)\n",
    "X_test_vec = vectorizer.transform(X_test)"
   ]
  },
  {
   "cell_type": "code",
   "execution_count": 15,
   "id": "e5e1324a-2d01-4efd-b2a4-e1142fba0868",
   "metadata": {},
   "outputs": [],
   "source": [
    "models = {\n",
    "    'Logistic Regression': LogisticRegression(random_state=42),\n",
    "    'Decision Tree': DecisionTreeClassifier(random_state=42),\n",
    "    'Gradient Boosting': GradientBoostingClassifier(random_state=42),\n",
    "    'Random Forest': RandomForestClassifier(random_state=42)\n",
    "}"
   ]
  },
  {
   "cell_type": "code",
   "execution_count": 16,
   "id": "dec28fa1-f4ca-4a20-935b-a872124a6fac",
   "metadata": {},
   "outputs": [
    {
     "name": "stdout",
     "output_type": "stream",
     "text": [
      "\n",
      "Logistic Regression Results:\n",
      "Accuracy: 0.9890\n",
      "              precision    recall  f1-score   support\n",
      "\n",
      "           0       0.99      0.99      0.99      5900\n",
      "           1       0.99      0.99      0.99      5320\n",
      "\n",
      "    accuracy                           0.99     11220\n",
      "   macro avg       0.99      0.99      0.99     11220\n",
      "weighted avg       0.99      0.99      0.99     11220\n",
      "\n",
      "\n",
      "Decision Tree Results:\n",
      "Accuracy: 0.9958\n",
      "              precision    recall  f1-score   support\n",
      "\n",
      "           0       1.00      1.00      1.00      5900\n",
      "           1       1.00      1.00      1.00      5320\n",
      "\n",
      "    accuracy                           1.00     11220\n",
      "   macro avg       1.00      1.00      1.00     11220\n",
      "weighted avg       1.00      1.00      1.00     11220\n",
      "\n",
      "\n",
      "Gradient Boosting Results:\n",
      "Accuracy: 0.9953\n",
      "              precision    recall  f1-score   support\n",
      "\n",
      "           0       1.00      0.99      1.00      5900\n",
      "           1       0.99      1.00      1.00      5320\n",
      "\n",
      "    accuracy                           1.00     11220\n",
      "   macro avg       1.00      1.00      1.00     11220\n",
      "weighted avg       1.00      1.00      1.00     11220\n",
      "\n",
      "\n",
      "Random Forest Results:\n",
      "Accuracy: 0.9886\n",
      "              precision    recall  f1-score   support\n",
      "\n",
      "           0       0.99      0.99      0.99      5900\n",
      "           1       0.99      0.99      0.99      5320\n",
      "\n",
      "    accuracy                           0.99     11220\n",
      "   macro avg       0.99      0.99      0.99     11220\n",
      "weighted avg       0.99      0.99      0.99     11220\n",
      "\n"
     ]
    }
   ],
   "source": [
    "for name, model in models.items():\n",
    "    model.fit(X_train_vec, y_train)\n",
    "    y_pred = model.predict(X_test_vec)\n",
    "    print(f\"\\n{name} Results:\")\n",
    "    print(f\"Accuracy: {accuracy_score(y_test, y_pred):.4f}\")\n",
    "    print(classification_report(y_test, y_pred))"
   ]
  },
  {
   "cell_type": "code",
   "execution_count": 17,
   "id": "95b41504-0466-44d7-b9d5-55b77a32005b",
   "metadata": {},
   "outputs": [],
   "source": [
    "def output_label(n):\n",
    "    return \"Fake News\" if n == 0 else \"Genuine News\""
   ]
  },
  {
   "cell_type": "code",
   "execution_count": 18,
   "id": "ca69d47c-7d02-493e-82dc-8f71fc4a2675",
   "metadata": {},
   "outputs": [],
   "source": [
    "def manual_testing(news):\n",
    "    news_processed = wordopt(news)\n",
    "    news_vectorized = vectorizer.transform([news_processed])\n",
    "    \n",
    "    results = {}\n",
    "    for name, model in models.items():\n",
    "        prediction = model.predict(news_vectorized)[0]\n",
    "        results[name] = output_label(prediction)\n",
    "    \n",
    "    return results"
   ]
  },
  {
   "cell_type": "code",
   "execution_count": null,
   "id": "d57cde76-327a-47a2-b682-0846858e099d",
   "metadata": {},
   "outputs": [],
   "source": [
    "news = str(input(\"Enter the news text: \"))\n",
    "print(manual_testing(news))"
   ]
  },
  {
   "cell_type": "code",
   "execution_count": null,
   "id": "f54f140c-9184-411a-b148-769649f627ed",
   "metadata": {},
   "outputs": [],
   "source": []
  }
 ],
 "metadata": {
  "kernelspec": {
   "display_name": "Python 3 (ipykernel)",
   "language": "python",
   "name": "python3"
  },
  "language_info": {
   "codemirror_mode": {
    "name": "ipython",
    "version": 3
   },
   "file_extension": ".py",
   "mimetype": "text/x-python",
   "name": "python",
   "nbconvert_exporter": "python",
   "pygments_lexer": "ipython3",
   "version": "3.12.4"
  }
 },
 "nbformat": 4,
 "nbformat_minor": 5
}
